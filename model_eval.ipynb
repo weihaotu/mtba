{
 "cells": [
  {
   "cell_type": "code",
   "execution_count": 1,
   "metadata": {},
   "outputs": [],
   "source": [
    "from main import (\n",
    "    BertConfig,\n",
    "    useModel,\n",
    "    BertForFineGrainedSentimentClassification,\n",
    "    evaluation,\n",
    "    device,\n",
    "    cacheDir,\n",
    "    torch,\n",
    "    os,\n",
    "    train_loader,\n",
    "    test_loader,\n",
    ")"
   ]
  },
  {
   "cell_type": "code",
   "execution_count": 2,
   "metadata": {},
   "outputs": [
    {
     "data": {
      "text/plain": [
       "<All keys matched successfully>"
      ]
     },
     "execution_count": 2,
     "metadata": {},
     "output_type": "execute_result"
    }
   ],
   "source": [
    "config = BertConfig.from_pretrained(useModel)\n",
    "\n",
    "model = BertForFineGrainedSentimentClassification(\n",
    "    num_classes_per_aspect=4,\n",
    "    num_aspects=18,\n",
    "    config=config,\n",
    ").to(device)"
   ]
  },
  {
   "cell_type": "code",
   "execution_count": 3,
   "metadata": {},
   "outputs": [
    {
     "name": "stdout",
     "output_type": "stream",
     "text": [
      "Evaluation on test set\n"
     ]
    },
    {
     "name": "stderr",
     "output_type": "stream",
     "text": [
      "100%|██████████| 155/155 [01:42<00:00,  1.51it/s]\n"
     ]
    },
    {
     "data": {
      "text/plain": [
       "{'aspect_accuracy': tensor(0.7309, device='cuda:0'),\n",
       " 'score_rmse': tensor(0.7260, device='cuda:0', grad_fn=<DivBackward0>)}"
      ]
     },
     "execution_count": 3,
     "metadata": {},
     "output_type": "execute_result"
    }
   ],
   "source": [
    "# model.load_state_dict(torch.load(os.path.join(cacheDir, \"./model/model.pth\")))\n",
    "\n",
    "# evaluation(model,test_loader,iftest=True)"
   ]
  },
  {
   "cell_type": "code",
   "execution_count": 4,
   "metadata": {},
   "outputs": [
    {
     "name": "stdout",
     "output_type": "stream",
     "text": [
      "Evaluation on test set\n"
     ]
    },
    {
     "name": "stderr",
     "output_type": "stream",
     "text": [
      "100%|██████████| 155/155 [01:42<00:00,  1.52it/s]\n"
     ]
    },
    {
     "data": {
      "text/plain": [
       "{'aspect_accuracy': tensor(0.7307, device='cuda:0'),\n",
       " 'score_rmse': tensor(0.7039, device='cuda:0', grad_fn=<DivBackward0>)}"
      ]
     },
     "execution_count": 4,
     "metadata": {},
     "output_type": "execute_result"
    }
   ],
   "source": [
    "model.load_state_dict(torch.load(os.path.join(cacheDir, \"./model/model_focal.pth\")))\n",
    "\n",
    "evaluation(model,test_loader,iftest=True)"
   ]
  },
  {
   "cell_type": "code",
   "execution_count": 5,
   "metadata": {},
   "outputs": [
    {
     "name": "stdout",
     "output_type": "stream",
     "text": [
      "Evaluation on train set\n"
     ]
    },
    {
     "name": "stderr",
     "output_type": "stream",
     "text": [
      "100%|██████████| 1152/1152 [12:44<00:00,  1.51it/s]\n"
     ]
    },
    {
     "data": {
      "text/plain": [
       "{'aspect_accuracy': tensor(0.7599, device='cuda:0'),\n",
       " 'score_rmse': tensor(0.7009, device='cuda:0', grad_fn=<DivBackward0>)}"
      ]
     },
     "execution_count": 5,
     "metadata": {},
     "output_type": "execute_result"
    }
   ],
   "source": [
    "model.load_state_dict(torch.load(os.path.join(cacheDir, \"./model/model_focal.pth\")))\n",
    "\n",
    "evaluation(model,train_loader,iftest=False)"
   ]
  }
 ],
 "metadata": {
  "kernelspec": {
   "display_name": "llama",
   "language": "python",
   "name": "python3"
  },
  "language_info": {
   "codemirror_mode": {
    "name": "ipython",
    "version": 3
   },
   "file_extension": ".py",
   "mimetype": "text/x-python",
   "name": "python",
   "nbconvert_exporter": "python",
   "pygments_lexer": "ipython3",
   "version": "3.10.13"
  }
 },
 "nbformat": 4,
 "nbformat_minor": 2
}

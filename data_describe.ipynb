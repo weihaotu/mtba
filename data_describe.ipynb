{
 "cells": [
  {
   "cell_type": "code",
   "execution_count": 38,
   "metadata": {},
   "outputs": [],
   "source": [
    "import os\n",
    "import pandas as pd\n",
    "import matplotlib.pyplot as plt\n",
    "%matplotlib inline\n",
    "from matplotlib_inline import backend_inline\n",
    "backend_inline.set_matplotlib_formats(\"svg\")\n",
    "\n",
    "plt.rcParams['font.sans-serif'] = ['Microsoft YaHei'] # 指定默认字体为微软雅黑\n",
    "plt.rcParams['axes.unicode_minus'] = False # 解决保存图像是负号'-'显示为方块的问题"
   ]
  },
  {
   "cell_type": "code",
   "execution_count": 39,
   "metadata": {},
   "outputs": [],
   "source": [
    "dataDir = \"/home/twh/code/mtba/asap/data\"\n",
    "\n",
    "\n",
    "def get_data_path(dataFile):\n",
    "    return os.path.join(dataDir, dataFile)\n",
    "\n",
    "\n",
    "def get_data(dataFile):\n",
    "    return pd.read_csv(get_data_path(dataFile))"
   ]
  },
  {
   "cell_type": "code",
   "execution_count": 40,
   "metadata": {},
   "outputs": [
    {
     "name": "stdout",
     "output_type": "stream",
     "text": [
      "Index(['id', 'review', 'star', 'Location#Transportation', 'Location#Downtown',\n",
      "       'Location#Easy_to_find', 'Service#Queue', 'Service#Hospitality',\n",
      "       'Service#Parking', 'Service#Timely', 'Price#Level',\n",
      "       'Price#Cost_effective', 'Price#Discount', 'Ambience#Decoration',\n",
      "       'Ambience#Noise', 'Ambience#Space', 'Ambience#Sanitary', 'Food#Portion',\n",
      "       'Food#Taste', 'Food#Appearance', 'Food#Recommend'],\n",
      "      dtype='object')\n"
     ]
    }
   ],
   "source": [
    "train_set = get_data(\"train.csv\")\n",
    "test_set = get_data(\"test.csv\")\n",
    "print(train_set.columns)"
   ]
  },
  {
   "cell_type": "code",
   "execution_count": null,
   "metadata": {},
   "outputs": [],
   "source": [
    "train_lengths = [len(review) for review in train_set[\"review\"]]\n",
    "test_lengths = [len(review) for review in test_set[\"review\"]]\n",
    "\n",
    "plt.hist(train_lengths, bins=30, alpha=0.6, label=\"train\", color=\"dodgerblue\")\n",
    "plt.hist(test_lengths, bins=30, alpha=0.6, label=\"test\", color=\"greenyellow\")\n",
    "plt.xlabel(\"评论字数\")\n",
    "plt.ylabel(\"数量\")\n",
    "plt.legend()"
   ]
  }
 ],
 "metadata": {
  "kernelspec": {
   "display_name": "Python 3",
   "language": "python",
   "name": "python3"
  },
  "language_info": {
   "codemirror_mode": {
    "name": "ipython",
    "version": 3
   },
   "file_extension": ".py",
   "mimetype": "text/x-python",
   "name": "python",
   "nbconvert_exporter": "python",
   "pygments_lexer": "ipython3",
   "version": "3.8.18"
  }
 },
 "nbformat": 4,
 "nbformat_minor": 2
}

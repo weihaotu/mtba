{
 "cells": [
  {
   "cell_type": "code",
   "execution_count": 1,
   "metadata": {},
   "outputs": [
    {
     "name": "stdout",
     "output_type": "stream",
     "text": [
      "https_proxy is set as http://127.0.0.1:7890\n",
      "http_proxy is set as http://127.0.0.1:7890\n",
      "HF_ENDPOINT is set as https://hf-mirror.com\n",
      "HF_HUB_ENABLE_HF_TRANSFER is set as 0\n"
     ]
    }
   ],
   "source": [
    "# check env variable\n",
    "def check(VAR):\n",
    "    import os\n",
    "\n",
    "    if VAR in os.environ:\n",
    "        print(f\"{VAR} is set as {os.environ[VAR]}\")\n",
    "\n",
    "\n",
    "def checkVars(VARS):\n",
    "    for VAR in VARS:\n",
    "        check(VAR)\n",
    "\n",
    "\n",
    "VARS = [\"https_proxy\", \"http_proxy\", \"HF_ENDPOINT\", \"HF_HUB_ENABLE_HF_TRANSFER\"]\n",
    "checkVars(VARS)"
   ]
  },
  {
   "cell_type": "code",
   "execution_count": 2,
   "metadata": {},
   "outputs": [],
   "source": [
    "import torch\n",
    "import torch.nn as nn\n",
    "from torch.utils.data import Dataset, DataLoader\n",
    "from torch.utils.tensorboard import SummaryWriter\n",
    "from torch.optim import AdamW\n",
    "\n",
    "from tqdm.notebook import tqdm\n",
    "\n",
    "from transformers import BertModel, BertConfig, BertTokenizer\n",
    "\n",
    "import os\n",
    "import pandas as pd"
   ]
  },
  {
   "cell_type": "code",
   "execution_count": 3,
   "metadata": {},
   "outputs": [],
   "source": [
    "dataDir = \"/home/twh/code/mtba/asap/data\"\n",
    "useModel = \"google-bert/bert-base-chinese\"\n",
    "device = torch.device(\"cuda\" if torch.cuda.is_available() else \"cpu\")\n",
    "cacheDir = \"./cache/\"\n",
    "\n",
    "\n",
    "def get_data_path(dataFile):\n",
    "    return os.path.join(dataDir, dataFile)\n",
    "\n",
    "\n",
    "def get_data(dataFile):\n",
    "    return pd.read_csv(get_data_path(dataFile))"
   ]
  },
  {
   "cell_type": "code",
   "execution_count": 4,
   "metadata": {},
   "outputs": [
    {
     "name": "stdout",
     "output_type": "stream",
     "text": [
      "状元楼饭店第一次去，因为地理位置优越：在宁波市和义大道高、大、上，里面装修中式，菜是地道的宁波菜，口味纯正，醉泥螺特棒，吃到了小时候的味道，因为去了晚了，在大堂等了一会儿，期间有茶水喝、服务员还与你聊天，到了就餐时生意太好，服务员都是小跑状，服务态度绝对不提速，样样都服务到位，点酒水还耐心的与我们解释，就这样绝对要夸一夸，特别是彭新星、洪继华（看服务牌才知道名字）也给我们宁波市形象增色，状元楼是宁波的一扇窗口，服务员的素质更体现我们宁波人的精神面貌。赞一个\n",
      "Index(['index', 'reviewbody', 'star', 'location_traffic',\n",
      "       'location_distance_from_business_district', 'location_easy_to_find',\n",
      "       'service_wait_time', 'service_waiters_attitude',\n",
      "       'service_parking_convenience', 'service_serving_speed', 'price_level',\n",
      "       'price_cost_effective', 'price_discount', 'environment_decoration',\n",
      "       'environment_noise', 'environment_space', 'environment_cleaness',\n",
      "       'dish_portion', 'dish_taste', 'dish_look', 'dish_recommendation'],\n",
      "      dtype='object')\n"
     ]
    }
   ],
   "source": [
    "train_sample = get_data(\"train_sample.csv\")\n",
    "# train_sample.head()\n",
    "test_text = train_sample[\"reviewbody\"][0]\n",
    "print(test_text)\n",
    "print(train_sample.columns)"
   ]
  },
  {
   "cell_type": "code",
   "execution_count": 5,
   "metadata": {},
   "outputs": [
    {
     "name": "stdout",
     "output_type": "stream",
     "text": [
      "Index(['id', 'review', 'star', 'Location#Transportation', 'Location#Downtown',\n",
      "       'Location#Easy_to_find', 'Service#Queue', 'Service#Hospitality',\n",
      "       'Service#Parking', 'Service#Timely', 'Price#Level',\n",
      "       'Price#Cost_effective', 'Price#Discount', 'Ambience#Decoration',\n",
      "       'Ambience#Noise', 'Ambience#Space', 'Ambience#Sanitary', 'Food#Portion',\n",
      "       'Food#Taste', 'Food#Appearance', 'Food#Recommend'],\n",
      "      dtype='object')\n"
     ]
    }
   ],
   "source": [
    "train_set = get_data(\"train.csv\")\n",
    "print(train_set.columns)"
   ]
  },
  {
   "cell_type": "code",
   "execution_count": 6,
   "metadata": {},
   "outputs": [
    {
     "name": "stdout",
     "output_type": "stream",
     "text": [
      "Index(['id', 'review', 'star', 'Location#Transportation', 'Location#Downtown',\n",
      "       'Location#Easy_to_find', 'Service#Queue', 'Service#Hospitality',\n",
      "       'Service#Parking', 'Service#Timely', 'Price#Level',\n",
      "       'Price#Cost_effective', 'Price#Discount', 'Ambience#Decoration',\n",
      "       'Ambience#Noise', 'Ambience#Space', 'Ambience#Sanitary', 'Food#Portion',\n",
      "       'Food#Taste', 'Food#Appearance', 'Food#Recommend'],\n",
      "      dtype='object')\n"
     ]
    }
   ],
   "source": [
    "test_set = get_data(\"test.csv\")\n",
    "print(test_set.columns)"
   ]
  },
  {
   "cell_type": "code",
   "execution_count": 7,
   "metadata": {},
   "outputs": [],
   "source": [
    "tokenizer = BertTokenizer.from_pretrained(useModel)"
   ]
  },
  {
   "cell_type": "markdown",
   "metadata": {},
   "source": [
    "# DataSet\n"
   ]
  },
  {
   "cell_type": "code",
   "execution_count": 8,
   "metadata": {},
   "outputs": [],
   "source": [
    "class ReviewsDataset(Dataset):\n",
    "    def __init__(self, dataframe, tokenizer, max_length=512):\n",
    "        self.tokenizer = tokenizer\n",
    "        self.data = dataframe\n",
    "        self.max_length = max_length\n",
    "\n",
    "        # 分别提取输入文本和标签\n",
    "        self.reviews = self.data[\"review\"].tolist()\n",
    "        # 提取 'star' 及之后所有列作为标签\n",
    "        self.labels = self.data.loc[:, \"star\":].to_numpy()\n",
    "        # 将 'star' 之后所有列的值加2\n",
    "        self.labels[..., 1:] += 2\n",
    "\n",
    "    def __len__(self):\n",
    "        return len(self.reviews)\n",
    "\n",
    "    def __getitem__(self, idx):\n",
    "        review = self.reviews[idx]\n",
    "        labels = self.labels[idx]\n",
    "\n",
    "        # 使用tokenizer编码文本\n",
    "        inputs = self.tokenizer.encode_plus(\n",
    "            review,\n",
    "            add_special_tokens=True,\n",
    "            max_length=self.max_length,\n",
    "            padding=\"max_length\",\n",
    "            truncation=True,\n",
    "            return_attention_mask=True,\n",
    "            return_token_type_ids=False,\n",
    "            return_tensors=\"pt\",  # 返回PyTorch tensors格式\n",
    "        )\n",
    "\n",
    "        input_ids = inputs[\"input_ids\"].squeeze(0)  # 去掉批次维度\n",
    "        attention_mask = inputs[\"attention_mask\"].squeeze(0)\n",
    "\n",
    "        return {\n",
    "            \"input_ids\": input_ids,\n",
    "            \"attention_mask\": attention_mask,\n",
    "            \"labels\": torch.tensor(labels, dtype=torch.float),\n",
    "        }"
   ]
  },
  {
   "cell_type": "code",
   "execution_count": 9,
   "metadata": {},
   "outputs": [
    {
     "name": "stdout",
     "output_type": "stream",
     "text": [
      "torch.Size([4, 18])\n"
     ]
    }
   ],
   "source": [
    "# compute weights according to the distribution of the labels\n",
    "def compute_weights(data=get_data(\"train.csv\")):\n",
    "    data = data.loc[:, \"Location#Transportation\":] + 2\n",
    "    # compute value frequency for each column\n",
    "    value_freq = data.apply(pd.Series.value_counts)\n",
    "    # normalize the frequency\n",
    "    value_freq = value_freq.div(value_freq.sum(axis=0), axis=1)\n",
    "    # print(value_freq)\n",
    "    # get 1/freq as pytorch tensor\n",
    "    weights = torch.tensor(1 / value_freq.values, dtype=torch.float)\n",
    "    return weights\n",
    "\n",
    "\n",
    "weights = compute_weights().to(device)\n",
    "print(weights.shape)"
   ]
  },
  {
   "cell_type": "code",
   "execution_count": 10,
   "metadata": {},
   "outputs": [],
   "source": [
    "train_set = ReviewsDataset(dataframe=get_data(\"train.csv\"), tokenizer=tokenizer)\n",
    "test_set = ReviewsDataset(dataframe=get_data(\"test.csv\"), tokenizer=tokenizer)"
   ]
  },
  {
   "cell_type": "code",
   "execution_count": 11,
   "metadata": {},
   "outputs": [],
   "source": [
    "train_loader = DataLoader(train_set, batch_size=64, shuffle=True)\n",
    "test_loader = DataLoader(test_set, batch_size=64, shuffle=False)"
   ]
  },
  {
   "cell_type": "code",
   "execution_count": 12,
   "metadata": {},
   "outputs": [
    {
     "data": {
      "text/plain": [
       "<matplotlib.legend.Legend at 0x7f24ea4432b0>"
      ]
     },
     "execution_count": 12,
     "metadata": {},
     "output_type": "execute_result"
    },
    {
     "data": {
      "image/png": "[encoded data removed]",
      "text/plain": [
       "<Figure size 640x480 with 1 Axes>"
      ]
     },
     "metadata": {},
     "output_type": "display_data"
    }
   ],
   "source": [
    "# plot length distribution of train set and test set\n",
    "import matplotlib.pyplot as plt\n",
    "\n",
    "train_lengths = [len(review) for review in train_set.reviews]\n",
    "test_lengths = [len(review) for review in test_set.reviews]\n",
    "\n",
    "plt.hist(train_lengths, bins=30, alpha=0.5, label=\"train\")\n",
    "plt.hist(test_lengths, bins=30, alpha=0.5, label=\"test\")\n",
    "plt.legend()"
   ]
  },
  {
   "cell_type": "markdown",
   "metadata": {},
   "source": [
    "# Model\n"
   ]
  },
  {
   "cell_type": "code",
   "execution_count": 13,
   "metadata": {},
   "outputs": [],
   "source": [
    "def print_shape(tensor):\n",
    "    print(tensor.shape)\n",
    "\n",
    "\n",
    "class BertForFineGrainedSentimentClassification(nn.Module):\n",
    "    def __init__(\n",
    "        self, num_classes_per_aspect, num_aspects, config, enjoy_weights=False\n",
    "    ):\n",
    "        super().__init__()\n",
    "        self.num_classes_per_aspect = num_classes_per_aspect\n",
    "        self.num_aspects = num_aspects\n",
    "        self.enjoy_weights = enjoy_weights\n",
    "\n",
    "        self.bert = BertModel.from_pretrained(useModel, config=config)\n",
    "        for param in self.bert.parameters():\n",
    "            param.requires_grad = False\n",
    "\n",
    "        self.scorer = nn.Sequential(\n",
    "            nn.Linear(config.hidden_size, config.hidden_size),\n",
    "            nn.Tanh(),\n",
    "            nn.Linear(config.hidden_size, 1, bias=False),\n",
    "        )\n",
    "\n",
    "        self.config = config\n",
    "\n",
    "        if not enjoy_weights:\n",
    "            self.Wa = nn.Parameter(\n",
    "                torch.Tensor(num_aspects, config.hidden_size, config.hidden_size)\n",
    "            )\n",
    "            self.w = nn.Parameter(torch.Tensor(num_aspects, 1, config.hidden_size))\n",
    "            self.Wp = nn.Parameter(\n",
    "                torch.Tensor(num_aspects, config.hidden_size, config.hidden_size)\n",
    "            )\n",
    "            self.Wq = nn.Parameter(\n",
    "                torch.Tensor(num_aspects, num_classes_per_aspect, config.hidden_size)\n",
    "            )\n",
    "            self.bq = nn.Parameter(torch.Tensor(num_aspects, num_classes_per_aspect, 1))\n",
    "        else:\n",
    "            self.aspect = nn.Sequential(\n",
    "                nn.Linear(config.hidden_size, config.hidden_size),\n",
    "                nn.Tanh(),\n",
    "                nn.Linear(config.hidden_size, 1),\n",
    "            )\n",
    "            raise NotImplementedError\n",
    "\n",
    "        self._init_weights()\n",
    "\n",
    "    def _init_weights(self):\n",
    "        \"\"\"Initialize weights for custom layers and parameters\"\"\"\n",
    "        # 初始化Scorer模块\n",
    "        for layer in self.scorer:\n",
    "            if isinstance(layer, nn.Linear):\n",
    "                nn.init.xavier_normal_(layer.weight)\n",
    "                if layer.bias is not None:\n",
    "                    nn.init.zeros_(layer.bias)\n",
    "\n",
    "        # 初始化自定义参数\n",
    "        nn.init.xavier_normal_(self.Wa)\n",
    "        nn.init.xavier_normal_(self.w)\n",
    "        nn.init.xavier_normal_(self.Wp)\n",
    "        nn.init.xavier_normal_(self.Wq)\n",
    "        nn.init.zeros_(self.bq)\n",
    "\n",
    "    def forward(self, inputs):\n",
    "        outputs = self.bert(**inputs)\n",
    "        sequence_output = outputs.last_hidden_state\n",
    "        # print_shape(sequence_output)\n",
    "        if not self.enjoy_weights:\n",
    "            sequence_output = sequence_output.transpose(1, 2)\n",
    "            # print_shape(sequence_output)\n",
    "            # sequence_output (batch_size, hidden_size, seq_len) ie (B,d,Z)\n",
    "            Ma = torch.einsum(\"Ndd,BdZ->BNdZ\", self.Wa, sequence_output)\n",
    "            # print_shape(Ma)\n",
    "            wMa = torch.einsum(\"Ned,BNdZ->BNeZ\", self.w, Ma).transpose(2, 3)\n",
    "            # print_shape(wMa)\n",
    "            alpha = torch.softmax(wMa, dim=-1)\n",
    "            WpH = torch.einsum(\"Ndd,BdZ->BNdZ\", self.Wp, sequence_output)\n",
    "            # print_shape(WpH)\n",
    "            WpH_alpha = torch.einsum(\"BNdZ,BNZe->BNde\", WpH, alpha)\n",
    "            r = torch.tanh(WpH_alpha)\n",
    "            # print_shape(r)\n",
    "            Wqr = torch.einsum(\"NCd,BNde->BNCe\", self.Wq, r)\n",
    "            # print_shape(Wqr)\n",
    "            # print(Wqr)\n",
    "            # Wqr (B, N, C, e) bq (N, C, e)\n",
    "            yhat = torch.softmax((Wqr + self.bq).squeeze(-1), dim=-1)\n",
    "            # print_shape(yhat)\n",
    "            # print(yhat)\n",
    "\n",
    "        else:\n",
    "            temp = self.aspect(sequence_output)\n",
    "            print_shape(temp)\n",
    "\n",
    "            yhat = None\n",
    "            raise NotImplementedError\n",
    "\n",
    "        # Get CLS embedding, which is of shape (batch_size, hidden_size) ie (B,d)\n",
    "        cls_embedding = outputs.pooler_output\n",
    "        # print_shape(cls_embedding)\n",
    "        ghat = self.scorer(cls_embedding).squeeze(-1)\n",
    "        # print_shape(ghat)\n",
    "\n",
    "        return yhat, ghat\n",
    "\n",
    "\n",
    "def loss(yhat, ghat, labels):\n",
    "    # Convert labels to long and ensure the change is kept by assignment\n",
    "    labels = labels.to(torch.long)  # Correction here\n",
    "\n",
    "    # Extract score labels and aspect labels\n",
    "    score_labels = labels[:, 0].float()  # Convert score labels to float for MSE Loss\n",
    "    aspect_labels = labels[:, 1:]  # aspect_labels are already long now\n",
    "\n",
    "    print_shape(aspect_labels)\n",
    "\n",
    "    num_aspects = aspect_labels.size(1)\n",
    "    # print(num_aspects)\n",
    "\n",
    "    # Compute loss for aspect classification\n",
    "    aspect_loss = 0\n",
    "    for i in range(num_aspects):\n",
    "        aspect_loss += nn.CrossEntropyLoss(weight=weights[:, i])(\n",
    "            yhat[:, i, :], aspect_labels[:, i]\n",
    "        )\n",
    "    aspect_loss /= num_aspects\n",
    "\n",
    "    # Initialize MSELoss for score regression and compute loss\n",
    "    mse_loss = torch.nn.MSELoss()\n",
    "    score_loss = mse_loss(\n",
    "        ghat, score_labels.float()\n",
    "    )  # Make sure score_labels are floats\n",
    "\n",
    "    # Total loss is the sum of aspect and score losses\n",
    "    total_loss = aspect_loss + score_loss\n",
    "    return total_loss"
   ]
  },
  {
   "cell_type": "code",
   "execution_count": 14,
   "metadata": {},
   "outputs": [
    {
     "name": "stdout",
     "output_type": "stream",
     "text": [
      "torch.Size([64, 18])\n"
     ]
    }
   ],
   "source": [
    "config = BertConfig.from_pretrained(useModel)\n",
    "\n",
    "model = BertForFineGrainedSentimentClassification(\n",
    "    num_classes_per_aspect=4,\n",
    "    num_aspects=18,\n",
    "    config=config,\n",
    ").to(device)\n",
    "\n",
    "# get a batch of data\n",
    "batch = next(iter(test_loader))\n",
    "inputs = {key: val.to(device) for key, val in batch.items() if key != \"labels\"}\n",
    "labels = batch[\"labels\"].to(device)\n",
    "yhat, ghat = model(inputs)\n",
    "loss = loss(yhat, ghat, labels)"
   ]
  },
  {
   "cell_type": "code",
   "execution_count": 27,
   "metadata": {},
   "outputs": [
    {
     "name": "stdout",
     "output_type": "stream",
     "text": [
      "tensor(356, device='cuda:0') 1152\n"
     ]
    },
    {
     "data": {
      "text/plain": [
       "{'aspect_accuracy': tensor(0.2416, device='cuda:0'),\n",
       " 'score_rmse': tensor(2.6525, device='cuda:0', grad_fn=<SqrtBackward0>)}"
      ]
     },
     "execution_count": 27,
     "metadata": {},
     "output_type": "execute_result"
    }
   ],
   "source": [
    "# compute_metrics(yhat, ghat, labels)"
   ]
  },
  {
   "cell_type": "markdown",
   "metadata": {},
   "source": [
    "# Train\n"
   ]
  },
  {
   "cell_type": "code",
   "execution_count": 26,
   "metadata": {},
   "outputs": [],
   "source": [
    "def compute_metrics(yhat, ghat, labels):\n",
    "    # Extract score labels and aspect labels\n",
    "    score_labels = labels[:, 0].float()\n",
    "    aspect_labels = labels[:, 1:]\n",
    "    # print_shape(aspect_labels)\n",
    "\n",
    "    # compute aspect accuracy\n",
    "    aspect_labels[aspect_labels == 0] = -100\n",
    "    valid_label_counts = (aspect_labels != -100).sum()\n",
    "    print(valid_label_counts, 64 * 18)\n",
    "    aspect_accuracy = (\n",
    "        torch.argmax(yhat, dim=-1) == aspect_labels\n",
    "    ).sum() / valid_label_counts\n",
    "\n",
    "    # compute aspect accuracy, ignore\n",
    "    # aspect_preds = torch.argmax(yhat, dim=-1)\n",
    "    # aspect_accuracy = (aspect_preds == aspect_labels).float().mean()\n",
    "\n",
    "    # compute score RMSE\n",
    "    score_rmse = torch.sqrt(torch.mean((ghat - score_labels) ** 2))\n",
    "\n",
    "    return {\"aspect_accuracy\": aspect_accuracy, \"score_rmse\": score_rmse}\n",
    "\n",
    "\n",
    "def train(model, train_loader, criterion, epochs, load_cache=True):\n",
    "    writer = SummaryWriter()\n",
    "\n",
    "    optimizer = AdamW(model.parameters())\n",
    "\n",
    "    if load_cache:\n",
    "        if os.path.exists(os.path.join(cacheDir, \"model.pth\")):\n",
    "            model.load_state_dict(torch.load(os.path.join(cacheDir, \"model.pth\")))\n",
    "        if os.path.exists(os.path.join(cacheDir, \"optimizer.pth\")):\n",
    "            optimizer.load_state_dict(\n",
    "                torch.load(os.path.join(cacheDir, \"optimizer.pth\"))\n",
    "            )\n",
    "\n",
    "    model.train()\n",
    "    global_step = 0  # 初始化全局步数\n",
    "    for epoch in range(epochs):\n",
    "        running_loss = 0.0\n",
    "        for i, batch in enumerate(tqdm(train_loader)):\n",
    "            optimizer.zero_grad()\n",
    "            inputs = {\n",
    "                key: val.to(device) for key, val in batch.items() if key != \"labels\"\n",
    "            }\n",
    "            labels = batch[\"labels\"].to(device)\n",
    "            yhat, ghat = model(inputs)\n",
    "            loss = criterion(yhat, ghat, labels)\n",
    "            metrics = compute_metrics(yhat, ghat, labels)\n",
    "            for key, val in metrics.items():\n",
    "                writer.add_scalar(key, val.item(), global_step)  # 使用全局步数\n",
    "            writer.add_scalar(\"batch loss\", loss.item(), global_step)\n",
    "            loss.backward()\n",
    "            optimizer.step()\n",
    "            running_loss += loss.item()\n",
    "            global_step += 1  # 更新全局步数\n",
    "\n",
    "        writer.add_scalar(\n",
    "            \"training loss\", running_loss / len(train_loader), global_step\n",
    "        )  # 记录每个epoch的平均损失\n",
    "\n",
    "        # save model and optimizer\n",
    "        torch.save(model.state_dict(), os.path.join(cacheDir, \"model.pth\"))\n",
    "        torch.save(optimizer.state_dict(), os.path.join(cacheDir, \"optimizer.pth\"))\n",
    "\n",
    "    writer.flush()\n",
    "    writer.close()"
   ]
  },
  {
   "cell_type": "code",
   "execution_count": 17,
   "metadata": {},
   "outputs": [],
   "source": [
    "config = BertConfig.from_pretrained(useModel)\n",
    "\n",
    "model = BertForFineGrainedSentimentClassification(\n",
    "    num_classes_per_aspect=4,\n",
    "    num_aspects=18,\n",
    "    config=config,\n",
    ").to(device)\n",
    "\n",
    "# train(model, train_loader, loss, 10)"
   ]
  },
  {
   "cell_type": "code",
   "execution_count": 18,
   "metadata": {},
   "outputs": [],
   "source": [
    "def evaluation(model, test_loader):\n",
    "    model.load_state_dict(torch.load(os.path.join(cacheDir, \"model_1.pth\")))\n",
    "    model.eval()\n",
    "    for i, batch in enumerate(tqdm(test_loader)):\n",
    "        inputs = {key: val.to(device) for key, val in batch.items() if key != \"labels\"}\n",
    "        labels = batch[\"labels\"].to(device)\n",
    "        yhat, ghat = model(inputs)\n",
    "        metrics = compute_metrics(yhat, ghat, labels)\n",
    "        if i == 0:\n",
    "            all_metrics = metrics\n",
    "        else:\n",
    "            for key, val in metrics.items():\n",
    "                all_metrics[key] += val.item()\n",
    "    for key in all_metrics.keys():\n",
    "        all_metrics[key] /= len(test_loader)\n",
    "\n",
    "    return all_metrics"
   ]
  },
  {
   "cell_type": "code",
   "execution_count": 19,
   "metadata": {},
   "outputs": [],
   "source": [
    "# all_metrics = evaluation(model, test_loader)"
   ]
  },
  {
   "cell_type": "code",
   "execution_count": 20,
   "metadata": {},
   "outputs": [],
   "source": [
    "# all_metrics"
   ]
  },
  {
   "cell_type": "code",
   "execution_count": null,
   "metadata": {},
   "outputs": [],
   "source": []
  },
  {
   "cell_type": "code",
   "execution_count": 21,
   "metadata": {},
   "outputs": [],
   "source": [
    "# loss(yhat, ghat, batch[\"labels\"])"
   ]
  },
  {
   "cell_type": "code",
   "execution_count": 22,
   "metadata": {},
   "outputs": [],
   "source": [
    "# count trainable parameters\n",
    "def count_parameters(model):\n",
    "    return sum(p.numel() for p in model.parameters() if p.requires_grad)\n",
    "\n",
    "\n",
    "count_parameters(model)"
   ]
  }
 ],
 "metadata": {
  "kernelspec": {
   "display_name": "Python 3",
   "language": "python",
   "name": "python3"
  },
  "language_info": {
   "codemirror_mode": {
    "name": "ipython",
    "version": 3
   },
   "file_extension": ".py",
   "mimetype": "text/x-python",
   "name": "python",
   "nbconvert_exporter": "python",
   "pygments_lexer": "ipython3",
   "version": "3.8.18"
  }
 },
 "nbformat": 4,
 "nbformat_minor": 2
}

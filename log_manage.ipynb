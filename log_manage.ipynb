{
 "cells": [
  {
   "cell_type": "code",
   "execution_count": 6,
   "metadata": {},
   "outputs": [
    {
     "data": {
      "text/plain": [
       "['Apr19_06-56-48_dbcloud',\n",
       " 'Apr19_07-48-39_dbcloud',\n",
       " 'Apr19_07-48-59_dbcloud',\n",
       " 'Apr19_08-52-48_dbcloud',\n",
       " 'Apr19_18-07-30_dbcloud',\n",
       " 'Apr19_18-07-54_dbcloud',\n",
       " 'Apr19_18-11-13_dbcloud',\n",
       " 'Apr19_18-11-29_dbcloud',\n",
       " 'Apr19_18-12-34_dbcloud',\n",
       " 'Apr19_18-14-22_dbcloud',\n",
       " 'Apr20_00-32-09_dbcloud',\n",
       " 'Apr20_00-33-49_dbcloud']"
      ]
     },
     "execution_count": 6,
     "metadata": {},
     "output_type": "execute_result"
    }
   ],
   "source": [
    "import os\n",
    "\n",
    "logdir = \"./runs/\"\n",
    "# list all folders in the logdir\n",
    "folders = sorted(os.listdir(logdir))\n",
    "folders"
   ]
  },
  {
   "cell_type": "code",
   "execution_count": 7,
   "metadata": {},
   "outputs": [
    {
     "name": "stdout",
     "output_type": "stream",
     "text": [
      "Deleted ./runs//Apr19_06-56-48_dbcloud\n",
      "Deleted ./runs//Apr19_07-48-39_dbcloud\n",
      "Deleted ./runs//Apr19_07-48-59_dbcloud\n",
      "Deleted ./runs//Apr19_08-52-48_dbcloud\n",
      "Deleted ./runs//Apr19_18-07-30_dbcloud\n",
      "Deleted ./runs//Apr19_18-07-54_dbcloud\n",
      "Deleted ./runs//Apr19_18-11-13_dbcloud\n"
     ]
    }
   ],
   "source": [
    "# keep the last 5 folders, delete the rest\n",
    "for folder in folders[:-5]:\n",
    "    os.system(f\"rm -rf {logdir}/{folder}\")\n",
    "    print(f\"Deleted {logdir}/{folder}\")"
   ]
  }
 ],
 "metadata": {
  "kernelspec": {
   "display_name": "py38",
   "language": "python",
   "name": "python3"
  },
  "language_info": {
   "codemirror_mode": {
    "name": "ipython",
    "version": 3
   },
   "file_extension": ".py",
   "mimetype": "text/x-python",
   "name": "python",
   "nbconvert_exporter": "python",
   "pygments_lexer": "ipython3",
   "version": "3.8.18"
  }
 },
 "nbformat": 4,
 "nbformat_minor": 2
}
